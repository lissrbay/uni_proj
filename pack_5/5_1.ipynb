{
 "cells": [
  {
   "cell_type": "code",
   "execution_count": 1,
   "metadata": {},
   "outputs": [
    {
     "name": "stdout",
     "output_type": "stream",
     "text": [
      "Введите Т1, Т2, Т3: \n",
      "3 2 1\n",
      "10\n",
      "Прошло 0 минут. Первый наркоман начинает набирать шприц...\n",
      "Прошло 3 минут. Первый наркоман заканчивает набирать шприц...\n",
      "Прошло 3 минут. Передача шприца...\n",
      "Прошло 2 минут. Второй наркоман начинает делать инъекцию.\n",
      "Прошло 5 минут. Первый наркоман начинает набирать шприц...\n",
      "Прошло 6 минут. Второй наркоман заканчивает делать инъекцию.\n",
      "Время одного круга: 6\n",
      "Прошло 8 минут. Первый наркоман заканчивает набирать шприц...\n",
      "Прошло 8 минут. Передача шприца...\n",
      "Прошло 10 минут. Второй наркоман начинает делать инъекцию.\n",
      "Прошло 10 минут. Первый наркоман начинает набирать шприц...\n",
      "Прошло 11 минут. Второй наркоман заканчивает делать инъекцию.\n",
      "Время одного круга: 5\n",
      "Прошло 13 минут. Первый наркоман заканчивает набирать шприц...\n",
      "Прошло 13 минут. Передача шприца...\n",
      "Прошло 15 минут. Второй наркоман начинает делать инъекцию.\n",
      "Прошло 15 минут. Первый наркоман начинает набирать шприц...\n",
      "Прошло 16 минут. Второй наркоман заканчивает делать инъекцию.\n",
      "Время одного круга: 5\n",
      "Прошло 18 минут. Первый наркоман заканчивает набирать шприц...\n",
      "Прошло 18 минут. Передача шприца...\n",
      "Прошло 20 минут. Второй наркоман начинает делать инъекцию.\n",
      "Прошло 20 минут. Первый наркоман начинает набирать шприц...\n",
      "Прошло 21 минут. Второй наркоман заканчивает делать инъекцию.\n",
      "Время одного круга: 5\n",
      "Прошло 23 минут. Первый наркоман заканчивает набирать шприц...\n",
      "Прошло 23 минут. Передача шприца...\n",
      "Прошло 25 минут. Второй наркоман начинает делать инъекцию.\n",
      "Прошло 25 минут. Первый наркоман начинает набирать шприц...\n",
      "Прошло 26 минут. Второй наркоман заканчивает делать инъекцию.\n",
      "Время одного круга: 5\n",
      "Прошло 28 минут. Первый наркоман заканчивает набирать шприц...\n",
      "Прошло 28 минут. Передача шприца...\n",
      "Прошло 30 минут. Второй наркоман начинает делать инъекцию.\n",
      "Прошло 30 минут. Первый наркоман начинает набирать шприц...\n",
      "Прошло 31 минут. Второй наркоман заканчивает делать инъекцию.\n",
      "Время одного круга: 5\n",
      "Прошло 33 минут. Первый наркоман заканчивает набирать шприц...\n",
      "Прошло 33 минут. Передача шприца...\n",
      "Прошло 35 минут. Второй наркоман начинает делать инъекцию.\n",
      "Прошло 35 минут. Первый наркоман начинает набирать шприц...\n",
      "Прошло 36 минут. Второй наркоман заканчивает делать инъекцию.\n",
      "Время одного круга: 5\n",
      "Прошло 38 минут. Первый наркоман заканчивает набирать шприц...\n",
      "Прошло 38 минут. Передача шприца...\n",
      "Прошло 40 минут. Второй наркоман начинает делать инъекцию.\n",
      "Прошло 40 минут. Первый наркоман начинает набирать шприц...\n",
      "Прошло 41 минут. Второй наркоман заканчивает делать инъекцию.\n",
      "Время одного круга: 5\n",
      "Прошло 43 минут. Первый наркоман заканчивает набирать шприц...\n",
      "Прошло 43 минут. Передача шприца...\n",
      "Прошло 45 минут. Второй наркоман начинает делать инъекцию.\n",
      "Прошло 45 минут. Первый наркоман начинает набирать шприц...\n",
      "Прошло 46 минут. Второй наркоман заканчивает делать инъекцию.\n",
      "Время одного круга: 5\n",
      "Прошло 48 минут. Первый наркоман заканчивает набирать шприц...\n",
      "Прошло 48 минут. Передача шприца...\n",
      "Прошло 50 минут. Второй наркоман начинает делать инъекцию.\n",
      "Прошло 51 минут. Второй наркоман заканчивает делать инъекцию.\n",
      "Время одного круга: 5\n",
      "Cреднее время одного круга:  5.1\n"
     ]
    }
   ],
   "source": [
    "print(\"Введите Т1, Т2, Т3: \")\n",
    "n = input().split()\n",
    "x_data = []\n",
    "y_data = []\n",
    "n_data = []\n",
    "t1, t2, t3 = int(n[0]), int(n[1]), int(n[2])\n",
    "n = int(input())\n",
    "t = 0; d = t1\n",
    "t_l = 0; t_r = 0\n",
    "s = 0\n",
    "n_data.append(t1 + t2 + t3)\n",
    "f = False\n",
    "for i in range(n):\n",
    "    print(\"Прошло\", t, \"минут. Первый наркоман начинает набирать шприц...\")\n",
    "    if f:\n",
    "        if t1 > t3:\n",
    "            print(\"Прошло\", t + t3, \"минут. Второй наркоман заканчивает делать инъекцию.\")\n",
    "            t_r += t3\n",
    "            s += max(t_r - t_l, t_l)\n",
    "            print(\"Время одного круга:\", max(t_r - t_l, t_l))\n",
    "            print(\"Прошло\", t + t1, \"минут. Первый наркоман заканчивает набирать шприц...\")\n",
    "            x_data.append(i)\n",
    "            y_data.append(s / (i))\n",
    "            n_data.append(t2 + max(t1, t3))\n",
    "        if t1 <= t3:\n",
    "            print(\"Прошло\", t + t1, \"минут. Первый наркоман заканчивает набирать шприц...\")\n",
    "            print(\"Прошло\", t + t3, \"минут. Второй наркоман заканчивает делать инъекцию.\")\n",
    "            t_r += t3\n",
    "            s += max(t_r - t_l, t_l)\n",
    "            x_data.append(i)\n",
    "            y_data.append(s / (i))\n",
    "            n_data.append(t2 + max(t1, t3))\n",
    "            print(\"Время одного круга:\", max(t_r - t_l, t_l))\n",
    "        \n",
    "        print(\"Прошло\", t + max(t1, t3), \"минут. Передача шприца...\")\n",
    "        print(\"Прошло\", t + t2 + max(t1, t3), \"минут. Второй наркоман начинает делать инъекцию.\")\n",
    "        t_r = max(t1, t3) + t2\n",
    "        t_l = t2 + max(t1, t3)\n",
    "        t += t2 + max(t1, t3)\n",
    "    else:\n",
    "        print(\"Прошло\", t + t1, \"минут. Первый наркоман заканчивает набирать шприц...\")\n",
    "        print(\"Прошло\", t + t1, \"минут. Передача шприца...\")\n",
    "        print(\"Прошло\", t + t2, \"минут. Второй наркоман начинает делать инъекцию.\")\n",
    "        f = True\n",
    "        t_r = t1 + t2\n",
    "        t += t1 + t2\n",
    "print(\"Прошло\", t + t3, \"минут. Второй наркоман заканчивает делать инъекцию.\")\n",
    "t_r += t3\n",
    "print(\"Время одного круга:\", max(t_r - t_l, t_l))\n",
    "x_data.append(n)\n",
    "x_data.append(n)\n",
    "n_data.append(t2 + max(t1, t3))\n",
    "y_data.append((t + t3)  / n)\n",
    "y_data.append((t + t3)  / n)\n",
    "print(\"Cреднее время одного круга: \", (t + t3)  / n)    \n"
   ]
  },
  {
   "cell_type": "markdown",
   "metadata": {},
   "source": [
    "Первый круг чуваки будут всегда делать за $T1 + T2 + T3$. Следующие же круги будут зависеть от того, кто кого будет ждать - первый второго или второй первого, так как они должны быть оба свободны для передачи шприца. Среднее время следующих кругов следовательно будет вычислятся как $T_i = \\frac{(T2 + max\\,(T1,\\,T3))(i - 1)}{i - 1} = T2 + max\\,(T1,\\,T3)$, общее среднее время круга $T = \\frac{T1 + T2 + T3 + (T2 + max\\,(T1,\\,T3))(N - 1)}{N}$."
   ]
  },
  {
   "cell_type": "code",
   "execution_count": 2,
   "metadata": {},
   "outputs": [
    {
     "data": {
      "text/plain": [
       "[<matplotlib.lines.Line2D at 0x7c459f0>]"
      ]
     },
     "execution_count": 2,
     "metadata": {},
     "output_type": "execute_result"
    },
    {
     "data": {
      "image/png": "[encoded data removed]",
      "text/plain": [
       "<matplotlib.figure.Figure at 0x57ef570>"
      ]
     },
     "metadata": {},
     "output_type": "display_data"
    }
   ],
   "source": [
    "import matplotlib.pyplot as plt\n",
    "import numpy as np\n",
    "%matplotlib inline\n",
    "plt.title(\"Время от количества итераций\")\n",
    "plt.plot(x_data, y_data, color = 'red') #результат симуляции"
   ]
  },
  {
   "cell_type": "markdown",
   "metadata": {
    "collapsed": true
   },
   "source": [
    "С ростом итераций становится очевидно, что время среднего круга стремится к ранее указанной формуле."
   ]
  },
  {
   "cell_type": "code",
   "execution_count": null,
   "metadata": {
    "collapsed": true
   },
   "outputs": [],
   "source": []
  }
 ],
 "metadata": {
  "kernelspec": {
   "display_name": "Python 3",
   "language": "python",
   "name": "python3"
  },
  "language_info": {
   "codemirror_mode": {
    "name": "ipython",
    "version": 3
   },
   "file_extension": ".py",
   "mimetype": "text/x-python",
   "name": "python",
   "nbconvert_exporter": "python",
   "pygments_lexer": "ipython3",
   "version": "3.6.2"
  }
 },
 "nbformat": 4,
 "nbformat_minor": 2
}
